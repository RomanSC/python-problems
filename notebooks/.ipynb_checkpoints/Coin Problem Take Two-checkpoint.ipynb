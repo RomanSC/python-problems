{
 "cells": [
  {
   "cell_type": "markdown",
   "metadata": {},
   "source": [
    "\n",
    "<strong><font size=5>Coin Problem:</font><br>(Take two..)</br></strong>\n",
    "\n",
    "<span>\n",
    "<strong>The puzzle:</strong>\n",
    "\n",
    "<i>You place 100 coins heads up in a row and number them by position, with the coin all the way on the left No. 1 and the one on the rightmost edge No. 100. Next, for every number N, from 1 to 100, you flip over every coin whose position is a multiple of N. For example, first you'll flip over all the coins, because every number is a multiple of 1. Then you'll flip over all the even-numbered coins, because they're multiples of 2. Then you'll flip coins No. 3, 6, 9, 12, and so on.\n",
    "\n",
    "What do the coins look like when you're done? Specifically, which coins are heads down?</i>\n",
    "\n",
    "<strong>Answer:</strong>\n",
    "\n",
    "If you begin with all coins heads facing up all of the coins will end up flipped heads down. They should end up being flipped on the opposite side that they were placed on to begin with before flipping.\n",
    "\n",
    "<strong>Discussion:</strong>\n",
    "\n",
    "I chose this puzzle out of 7 because it looked interesting from both a mathematical and programming angle and also easily implementable. If I had not solved this puzzle using an algorithm I would have spent most of my time tediously flipping coins and hopefully keeping track accurately in order to end up with the right results. This made it a perfect problem to apply from a computer science perspective, afterall all software which are algorithms serve the purpose of taking large tasks and solving them quickly doing most of the work for the user.\n",
    "\n",
    "Not only did this puzzle have an interesting programming angle, while solving the problem which took two attempts on my part I found myself wondering what the mathematical basis for this problem is. My algorithm asks for each coin and step (which we can let be N), \"Is the coin's number divisible by N such that it becomes equal to 0?\" If yes, we flip the coin. This is a different question than \"Is the coin's number a multiple of N?\", which implicates a couple of things. One, my algorithm wouldn't be able to work with negative numbers, more on that in a second. Two, also that it wouldn't be able to work with decimals or non-whole numbers, because it counts each step using whole numbers. Finally and most fascinating, this puzzle seems to demonstrate the properties of multiplicative inverse. This was revealed to me in my first attempt when I was printing out each flip (step) to the terminal as I was coding the algorithm. I hope to demonstrate this with a picture at the end of my notes.\n",
    "\n",
    "</span>"
   ]
  },
  {
   "cell_type": "markdown",
   "metadata": {},
   "source": [
    "<strong><font size=5>Algorithm:</font></strong>\n",
    "\n",
    "First import coins.py, using sys to traverse up a directory though..."
   ]
  },
  {
   "cell_type": "code",
   "execution_count": 1,
   "metadata": {
    "collapsed": false
   },
   "outputs": [],
   "source": [
    "import sys\n",
    "sys.path.append('../')\n",
    "from coins import *"
   ]
  },
  {
   "cell_type": "markdown",
   "metadata": {},
   "source": [
    "We start with coins facing heads up:"
   ]
  },
  {
   "cell_type": "code",
   "execution_count": 2,
   "metadata": {
    "collapsed": false
   },
   "outputs": [
    {
     "name": "stdout",
     "output_type": "stream",
     "text": [
      "----------------------------------------------------------------------------------------------------\n"
     ]
    }
   ],
   "source": [
    "coins = gen_coins(heads='+')\n",
    "print(coins)"
   ]
  },
  {
   "cell_type": "markdown",
   "metadata": {},
   "source": [
    "Then we use the algorithm to do the flipping for us:"
   ]
  },
  {
   "cell_type": "code",
   "execution_count": 3,
   "metadata": {
    "collapsed": false
   },
   "outputs": [
    {
     "name": "stdout",
     "output_type": "stream",
     "text": [
      "++++++++++++++++++++++++++++++++++++++++++++++++++++++++++++++++++++++++++++++++++++++++++++++++++++\n"
     ]
    }
   ],
   "source": [
    "flipped_coins = flip_coins(coins, tails='-')\n",
    "print(flipped_coins)"
   ]
  },
  {
   "cell_type": "markdown",
   "metadata": {
    "collapsed": true
   },
   "source": [
    "<pre>\n",
    "<!-- HTML generated using hilite.me --><div style=\"background: #f0f0f0; overflow:auto;width:auto;border:solid gray;border-width:.1em .1em .1em .8em;padding:.2em .6em;\"><pre style=\"margin: 0; line-height: 125%\"><span style=\"color: #4070a0; font-style: italic\">&quot;&quot;&quot; coins.py | Tue, Feb 07, 2017 | Roman S. Collins</span>\n",
    "\n",
    "<span style=\"color: #4070a0; font-style: italic\">    The problem:</span>\n",
    "\n",
    "<span style=\"color: #4070a0; font-style: italic\">    You place 100 coins heads up in a row and number them by position, with the coin all the way on the left No. 1 and the one on the rightmost edge</span>\n",
    "<span style=\"color: #4070a0; font-style: italic\">    No. 100. Next, for every number N, from 1 to 100, you flip over every coin whose position is a multiple of N. For example, first you&#39;ll flip over</span>\n",
    "<span style=\"color: #4070a0; font-style: italic\">    every coin whose position is a multiple of N. For example. First you&#39;ll flip over all the coins, because every number is a multiple of 1. Then you&#39;ll</span>\n",
    "<span style=\"color: #4070a0; font-style: italic\">    flip over all the even-numbered coins, because theyre multiples of 2. Then you&#39;ll flip coins No. 3, 6, 9, 12 and so on.</span>\n",
    "\n",
    "<span style=\"color: #4070a0; font-style: italic\">&quot;&quot;&quot;</span>\n",
    "<span style=\"color: #007020; font-weight: bold\">def</span> <span style=\"color: #06287e\">gen_coins</span>(heads<span style=\"color: #666666\">=</span><span style=\"color: #4070a0\">&#39;.&#39;</span>, n<span style=\"color: #666666\">=</span><span style=\"color: #40a070\">100</span>):\n",
    "\t<span style=\"color: #007020; font-weight: bold\">for</span> i <span style=\"color: #007020; font-weight: bold\">in</span> <span style=\"color: #007020\">range</span>(<span style=\"color: #40a070\">1</span>, n <span style=\"color: #666666\">+</span> <span style=\"color: #40a070\">1</span>):\n",
    "\t\tcoins <span style=\"color: #666666\">=</span> heads <span style=\"color: #666666\">*</span> n\n",
    "\t<span style=\"color: #007020; font-weight: bold\">return</span> coins\n",
    "\n",
    "<span style=\"color: #007020; font-weight: bold\">def</span> <span style=\"color: #06287e\">flip_coins</span>(coins, tails<span style=\"color: #666666\">=</span><span style=\"color: #4070a0\">&#39;·&#39;</span>):\n",
    "\tflipped_coins <span style=\"color: #666666\">=</span> []\n",
    "\n",
    "\t<span style=\"color: #007020; font-weight: bold\">for</span> c <span style=\"color: #007020; font-weight: bold\">in</span> <span style=\"color: #007020\">range</span>(<span style=\"color: #007020\">len</span>(coins)):\n",
    "\t\tflipped_coins<span style=\"color: #666666\">.</span>append(coins[c])\n",
    "\n",
    "\t<span style=\"color: #007020; font-weight: bold\">for</span> i <span style=\"color: #007020; font-weight: bold\">in</span> <span style=\"color: #007020\">range</span>(<span style=\"color: #007020\">len</span>(flipped_coins)):\n",
    "\t\t<span style=\"color: #007020; font-weight: bold\">for</span> n <span style=\"color: #007020; font-weight: bold\">in</span> <span style=\"color: #007020\">range</span>(<span style=\"color: #007020\">len</span>(flipped_coins)):\n",
    "\t\t\t<span style=\"color: #007020; font-weight: bold\">if</span> i <span style=\"color: #666666\">==</span> <span style=\"color: #40a070\">0</span>:\n",
    "\t\t\t\tflipped_coins[i] <span style=\"color: #666666\">=</span> tails\n",
    "\t\t\t<span style=\"color: #007020; font-weight: bold\">try</span>:\n",
    "\t\t\t\t<span style=\"color: #007020; font-weight: bold\">if</span> n <span style=\"color: #666666\">%</span> i <span style=\"color: #666666\">==</span> <span style=\"color: #40a070\">0</span>:\n",
    "\t\t\t\t\tflipped_coins[i] <span style=\"color: #666666\">=</span> tails\n",
    "\t\t\t\t\t<span style=\"color: #60a0b0; font-style: italic\">#print((n % i), end=&#39;&#39;)</span>\n",
    "\t\t\t<span style=\"color: #007020; font-weight: bold\">except</span> <span style=\"color: #007020\">ZeroDivisionError</span>:\n",
    "\t\t\t\t<span style=\"color: #007020; font-weight: bold\">pass</span>\n",
    "\n",
    "\t<span style=\"color: #007020; font-weight: bold\">return</span> <span style=\"color: #4070a0\">&#39;&#39;</span><span style=\"color: #666666\">.</span>join(flipped_coins)\n",
    "\n",
    "<span style=\"color: #007020; font-weight: bold\">def</span> <span style=\"color: #06287e\">main</span>():\n",
    "\tcoins <span style=\"color: #666666\">=</span> gen_coins(heads<span style=\"color: #666666\">=</span><span style=\"color: #4070a0\">&#39;-&#39;</span>)\n",
    "\t<span style=\"color: #007020; font-weight: bold\">print</span>(<span style=\"color: #4070a0\">&#39;&#39;</span>)\n",
    "\t<span style=\"color: #007020; font-weight: bold\">print</span>(coins)\n",
    "\n",
    "\tflipped_coins <span style=\"color: #666666\">=</span> flip_coins(coins, tails<span style=\"color: #666666\">=</span><span style=\"color: #4070a0\">&#39;+&#39;</span>)\n",
    "\t<span style=\"color: #007020; font-weight: bold\">print</span>(<span style=\"color: #4070a0\">&#39;&#39;</span>)\n",
    "\t<span style=\"color: #007020; font-weight: bold\">print</span>(flipped_coins)\n",
    "\n",
    "<span style=\"color: #007020; font-weight: bold\">if</span> __name__ <span style=\"color: #666666\">==</span> <span style=\"color: #4070a0\">&#39;__main__&#39;</span>:\n",
    "    main()\n",
    "</pre></div>\n",
    "\n",
    "</pre>"
   ]
  },
  {
   "cell_type": "markdown",
   "metadata": {},
   "source": [
    "<strong><font size=5>Proving Multiplicative inverse:</font></strong>\n",
    "\n",
    "(The result is beautiful.)"
   ]
  },
  {
   "cell_type": "code",
   "execution_count": 7,
   "metadata": {
    "collapsed": false
   },
   "outputs": [
    {
     "name": "stdout",
     "output_type": "stream",
     "text": [
      "+---------------------------------------------------------------------------------------------------\n",
      "++--------------------------------------------------------------------------------------------------\n",
      "+++-------------------------------------------------------------------------------------------------\n",
      "++++------------------------------------------------------------------------------------------------\n",
      "+++++-----------------------------------------------------------------------------------------------\n",
      "++++++----------------------------------------------------------------------------------------------\n",
      "+++++++---------------------------------------------------------------------------------------------\n",
      "++++++++--------------------------------------------------------------------------------------------\n",
      "+++++++++-------------------------------------------------------------------------------------------\n",
      "++++++++++------------------------------------------------------------------------------------------\n",
      "+++++++++++-----------------------------------------------------------------------------------------\n",
      "++++++++++++----------------------------------------------------------------------------------------\n",
      "+++++++++++++---------------------------------------------------------------------------------------\n",
      "++++++++++++++--------------------------------------------------------------------------------------\n",
      "+++++++++++++++-------------------------------------------------------------------------------------\n",
      "++++++++++++++++------------------------------------------------------------------------------------\n",
      "+++++++++++++++++-----------------------------------------------------------------------------------\n",
      "++++++++++++++++++----------------------------------------------------------------------------------\n",
      "+++++++++++++++++++---------------------------------------------------------------------------------\n",
      "++++++++++++++++++++--------------------------------------------------------------------------------\n",
      "+++++++++++++++++++++-------------------------------------------------------------------------------\n",
      "++++++++++++++++++++++------------------------------------------------------------------------------\n",
      "+++++++++++++++++++++++-----------------------------------------------------------------------------\n",
      "++++++++++++++++++++++++----------------------------------------------------------------------------\n",
      "+++++++++++++++++++++++++---------------------------------------------------------------------------\n",
      "++++++++++++++++++++++++++--------------------------------------------------------------------------\n",
      "+++++++++++++++++++++++++++-------------------------------------------------------------------------\n",
      "++++++++++++++++++++++++++++------------------------------------------------------------------------\n",
      "+++++++++++++++++++++++++++++-----------------------------------------------------------------------\n",
      "++++++++++++++++++++++++++++++----------------------------------------------------------------------\n",
      "+++++++++++++++++++++++++++++++---------------------------------------------------------------------\n",
      "++++++++++++++++++++++++++++++++--------------------------------------------------------------------\n",
      "+++++++++++++++++++++++++++++++++-------------------------------------------------------------------\n",
      "++++++++++++++++++++++++++++++++++------------------------------------------------------------------\n",
      "+++++++++++++++++++++++++++++++++++-----------------------------------------------------------------\n",
      "++++++++++++++++++++++++++++++++++++----------------------------------------------------------------\n",
      "+++++++++++++++++++++++++++++++++++++---------------------------------------------------------------\n",
      "++++++++++++++++++++++++++++++++++++++--------------------------------------------------------------\n",
      "+++++++++++++++++++++++++++++++++++++++-------------------------------------------------------------\n",
      "++++++++++++++++++++++++++++++++++++++++------------------------------------------------------------\n",
      "+++++++++++++++++++++++++++++++++++++++++-----------------------------------------------------------\n",
      "++++++++++++++++++++++++++++++++++++++++++----------------------------------------------------------\n",
      "+++++++++++++++++++++++++++++++++++++++++++---------------------------------------------------------\n",
      "++++++++++++++++++++++++++++++++++++++++++++--------------------------------------------------------\n",
      "+++++++++++++++++++++++++++++++++++++++++++++-------------------------------------------------------\n",
      "++++++++++++++++++++++++++++++++++++++++++++++------------------------------------------------------\n",
      "+++++++++++++++++++++++++++++++++++++++++++++++-----------------------------------------------------\n",
      "++++++++++++++++++++++++++++++++++++++++++++++++----------------------------------------------------\n",
      "+++++++++++++++++++++++++++++++++++++++++++++++++---------------------------------------------------\n",
      "++++++++++++++++++++++++++++++++++++++++++++++++++--------------------------------------------------\n",
      "+++++++++++++++++++++++++++++++++++++++++++++++++++-------------------------------------------------\n",
      "++++++++++++++++++++++++++++++++++++++++++++++++++++------------------------------------------------\n",
      "+++++++++++++++++++++++++++++++++++++++++++++++++++++-----------------------------------------------\n",
      "++++++++++++++++++++++++++++++++++++++++++++++++++++++----------------------------------------------\n",
      "+++++++++++++++++++++++++++++++++++++++++++++++++++++++---------------------------------------------\n",
      "++++++++++++++++++++++++++++++++++++++++++++++++++++++++--------------------------------------------\n",
      "+++++++++++++++++++++++++++++++++++++++++++++++++++++++++-------------------------------------------\n",
      "++++++++++++++++++++++++++++++++++++++++++++++++++++++++++------------------------------------------\n",
      "+++++++++++++++++++++++++++++++++++++++++++++++++++++++++++-----------------------------------------\n",
      "++++++++++++++++++++++++++++++++++++++++++++++++++++++++++++----------------------------------------\n",
      "+++++++++++++++++++++++++++++++++++++++++++++++++++++++++++++---------------------------------------\n",
      "++++++++++++++++++++++++++++++++++++++++++++++++++++++++++++++--------------------------------------\n",
      "+++++++++++++++++++++++++++++++++++++++++++++++++++++++++++++++-------------------------------------\n",
      "++++++++++++++++++++++++++++++++++++++++++++++++++++++++++++++++------------------------------------\n",
      "+++++++++++++++++++++++++++++++++++++++++++++++++++++++++++++++++-----------------------------------\n",
      "++++++++++++++++++++++++++++++++++++++++++++++++++++++++++++++++++----------------------------------\n",
      "+++++++++++++++++++++++++++++++++++++++++++++++++++++++++++++++++++---------------------------------\n",
      "++++++++++++++++++++++++++++++++++++++++++++++++++++++++++++++++++++--------------------------------\n",
      "+++++++++++++++++++++++++++++++++++++++++++++++++++++++++++++++++++++-------------------------------\n",
      "++++++++++++++++++++++++++++++++++++++++++++++++++++++++++++++++++++++------------------------------\n",
      "+++++++++++++++++++++++++++++++++++++++++++++++++++++++++++++++++++++++-----------------------------\n",
      "++++++++++++++++++++++++++++++++++++++++++++++++++++++++++++++++++++++++----------------------------\n",
      "+++++++++++++++++++++++++++++++++++++++++++++++++++++++++++++++++++++++++---------------------------\n",
      "++++++++++++++++++++++++++++++++++++++++++++++++++++++++++++++++++++++++++--------------------------\n",
      "+++++++++++++++++++++++++++++++++++++++++++++++++++++++++++++++++++++++++++-------------------------\n",
      "++++++++++++++++++++++++++++++++++++++++++++++++++++++++++++++++++++++++++++------------------------\n",
      "+++++++++++++++++++++++++++++++++++++++++++++++++++++++++++++++++++++++++++++-----------------------\n",
      "++++++++++++++++++++++++++++++++++++++++++++++++++++++++++++++++++++++++++++++----------------------\n",
      "+++++++++++++++++++++++++++++++++++++++++++++++++++++++++++++++++++++++++++++++---------------------\n",
      "++++++++++++++++++++++++++++++++++++++++++++++++++++++++++++++++++++++++++++++++--------------------\n",
      "+++++++++++++++++++++++++++++++++++++++++++++++++++++++++++++++++++++++++++++++++-------------------\n",
      "++++++++++++++++++++++++++++++++++++++++++++++++++++++++++++++++++++++++++++++++++------------------\n",
      "+++++++++++++++++++++++++++++++++++++++++++++++++++++++++++++++++++++++++++++++++++-----------------\n",
      "++++++++++++++++++++++++++++++++++++++++++++++++++++++++++++++++++++++++++++++++++++----------------\n",
      "+++++++++++++++++++++++++++++++++++++++++++++++++++++++++++++++++++++++++++++++++++++---------------\n",
      "++++++++++++++++++++++++++++++++++++++++++++++++++++++++++++++++++++++++++++++++++++++--------------\n",
      "+++++++++++++++++++++++++++++++++++++++++++++++++++++++++++++++++++++++++++++++++++++++-------------\n",
      "++++++++++++++++++++++++++++++++++++++++++++++++++++++++++++++++++++++++++++++++++++++++------------\n",
      "+++++++++++++++++++++++++++++++++++++++++++++++++++++++++++++++++++++++++++++++++++++++++-----------\n",
      "++++++++++++++++++++++++++++++++++++++++++++++++++++++++++++++++++++++++++++++++++++++++++----------\n",
      "+++++++++++++++++++++++++++++++++++++++++++++++++++++++++++++++++++++++++++++++++++++++++++---------\n",
      "++++++++++++++++++++++++++++++++++++++++++++++++++++++++++++++++++++++++++++++++++++++++++++--------\n",
      "+++++++++++++++++++++++++++++++++++++++++++++++++++++++++++++++++++++++++++++++++++++++++++++-------\n",
      "++++++++++++++++++++++++++++++++++++++++++++++++++++++++++++++++++++++++++++++++++++++++++++++------\n",
      "+++++++++++++++++++++++++++++++++++++++++++++++++++++++++++++++++++++++++++++++++++++++++++++++-----\n",
      "++++++++++++++++++++++++++++++++++++++++++++++++++++++++++++++++++++++++++++++++++++++++++++++++----\n",
      "+++++++++++++++++++++++++++++++++++++++++++++++++++++++++++++++++++++++++++++++++++++++++++++++++---\n",
      "++++++++++++++++++++++++++++++++++++++++++++++++++++++++++++++++++++++++++++++++++++++++++++++++++--\n",
      "+++++++++++++++++++++++++++++++++++++++++++++++++++++++++++++++++++++++++++++++++++++++++++++++++++-\n",
      "++++++++++++++++++++++++++++++++++++++++++++++++++++++++++++++++++++++++++++++++++++++++++++++++++++\n"
     ]
    }
   ],
   "source": [
    "def gen_coins(heads='.', n=100):\n",
    "    for i in range(1, n + 1):\n",
    "        coins = heads * n\n",
    "    return coins\n",
    "\n",
    "def flip_coins(coins, tails='·'):\n",
    "    flipped_coins = []\n",
    "\n",
    "    for c in range(len(coins)):\n",
    "        flipped_coins.append(coins[c])\n",
    "\n",
    "    for i in range(len(flipped_coins)):\n",
    "        for n in range(len(flipped_coins)):\n",
    "            if i == 0:\n",
    "                flipped_coins[i] = tails\n",
    "            try:\n",
    "                if n % i == 0:\n",
    "                    flipped_coins[i] = tails\n",
    "                    #print((n % i), end='')\n",
    "            except ZeroDivisionError:\n",
    "                pass\n",
    "        print(''.join(flipped_coins))\n",
    "    return ''.join(flipped_coins)\n",
    "\n",
    "def main():\n",
    "    coins = gen_coins(heads='-', n=100)\n",
    "    #print('')\n",
    "    #print(coins)\n",
    "\n",
    "    flipped_coins = flip_coins(coins, tails='+')\n",
    "    #print('')\n",
    "    #print(flipped_coins)\n",
    "\n",
    "if __name__ == '__main__':\n",
    "    main()"
   ]
  },
  {
   "cell_type": "code",
   "execution_count": null,
   "metadata": {
    "collapsed": true
   },
   "outputs": [],
   "source": []
  }
 ],
 "metadata": {
  "kernelspec": {
   "display_name": "Python 3",
   "language": "python",
   "name": "python3"
  },
  "language_info": {
   "codemirror_mode": {
    "name": "ipython",
    "version": 3
   },
   "file_extension": ".py",
   "mimetype": "text/x-python",
   "name": "python",
   "nbconvert_exporter": "python",
   "pygments_lexer": "ipython3",
   "version": "3.6.0"
  }
 },
 "nbformat": 4,
 "nbformat_minor": 2
}
