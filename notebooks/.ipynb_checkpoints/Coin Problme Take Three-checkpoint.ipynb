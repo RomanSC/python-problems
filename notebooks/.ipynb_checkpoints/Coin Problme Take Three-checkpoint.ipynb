{
 "cells": [
  {
   "cell_type": "markdown",
   "metadata": {},
   "source": [
    "<h1>Coin Problem: </h1>\n",
    "\n",
    "<strong>The puzzle:</strong>\n",
    "\n",
    "<i>You place 100 coins heads up in a row and number them by position, with the coin all the way on the left No. 1 and the one on the rightmost edge No. 100. Next, for every number N, from 1 to 100, you flip over every coin whose position is a multiple of N. For example, first you'll flip over all the coins, because every number is a multiple of 1. Then you'll flip over all the even-numbered coins, because they're multiples of 2. Then you'll flip coins No. 3, 6, 9, 12, and so on.</i>\n",
    "\n",
    "<i>What do the coins look like when you're done? Specifically, which coins are heads down?</i>\n",
    "\n",
    "<strong>Answer:</strong>\n",
    "\n",
    "-++-++++-++++++-++++++++-++++++++++-++++++++++++-++++++++++++++-++++++++++++++++-++++++++++++++++++-\n",
    "\n",
    "<strong>Discussion:</strong>\n",
    "\n",
    "I chose this puzzle out of 7 because it looked interesting from both a mathematical and programming angle and also easily implementable. If I had not solved this puzzle using an algorithm I would have spent most of my time tediously flipping coins and hopefully keeping track accurately instead I spent most of my time tediously working out bugs with my algorithm. That's not to say that the irony made the puzzle any less enjoyable.\n",
    "\n",
    "Not only did this puzzle have an interesting programming angle, while solving the problem which took three attempts on my part I found myself wondering what the mathematical basis for this problem is. My algorithm asks for each coin and step (the step we can let be N), \"Is the coin's number divisible by N such that it becomes equal to 0?\" If yes, we flip the coin. This is a different question than \"Is the coin's number a multiple of N?\", which implicates a couple of things. One, my algorithm wouldn't be able to work with negative numbers, more on that in a second. Two, also that it wouldn't be able to work with decimals or non-whole numbers, because it counts each step using whole numbers. Not a huge problem for the purpose of this puzzle because non-whole coins aren't a part of this puzzle and would be unusual. Finally and most fascinating, this puzzle seems to have a basic formula that if used, much larger amounts of coins would be solvable with the same flip puzzle.\n",
    "\n",
    "<strong>The Algorithm:</strong>"
   ]
  },
  {
   "cell_type": "code",
   "execution_count": 24,
   "metadata": {
    "collapsed": true
   },
   "outputs": [],
   "source": [
    "import sys\n",
    "sys.path.append('../')\n",
    "from coins import *"
   ]
  },
  {
   "cell_type": "code",
   "execution_count": 25,
   "metadata": {
    "collapsed": false
   },
   "outputs": [
    {
     "name": "stdout",
     "output_type": "stream",
     "text": [
      "-++-++++-++++++-++++++++-++++++++++-++++++++++++-++++++++++++++-++++++++++++++++-++++++++++++++++++-\n",
      "None\n"
     ]
    }
   ],
   "source": [
    "coins = flip_coins(100)\n",
    "print(coins)"
   ]
  },
  {
   "cell_type": "code",
   "execution_count": 26,
   "metadata": {
    "collapsed": false
   },
   "outputs": [
    {
     "name": "stdout",
     "output_type": "stream",
     "text": [
      "-+++++++++++++++++++++++++++++++++++++++++++++++++++++++++++++++++++++++++++++++++++++++++++++++++++\n",
      "-+++++++++++++++++++++++++++++++++++++++++++++++++++++++++++++++++++++++++++++++++++++++++++++++++++\n",
      "-+++++++++++++++++++++++++++++++++++++++++++++++++++++++++++++++++++++++++++++++++++++++++++++++++++\n",
      "-++-++++++++++++++++++++++++++++++++++++++++++++++++++++++++++++++++++++++++++++++++++++++++++++++++\n",
      "-++-++++++++++++++++++++++++++++++++++++++++++++++++++++++++++++++++++++++++++++++++++++++++++++++++\n",
      "-++-++++++++++++++++++++++++++++++++++++++++++++++++++++++++++++++++++++++++++++++++++++++++++++++++\n",
      "-++-++++++++++++++++++++++++++++++++++++++++++++++++++++++++++++++++++++++++++++++++++++++++++++++++\n",
      "-++-++++++++++++++++++++++++++++++++++++++++++++++++++++++++++++++++++++++++++++++++++++++++++++++++\n",
      "-++-++++-+++++++++++++++++++++++++++++++++++++++++++++++++++++++++++++++++++++++++++++++++++++++++++\n",
      "-++-++++-+++++++++++++++++++++++++++++++++++++++++++++++++++++++++++++++++++++++++++++++++++++++++++\n",
      "-++-++++-+++++++++++++++++++++++++++++++++++++++++++++++++++++++++++++++++++++++++++++++++++++++++++\n",
      "-++-++++-+++++++++++++++++++++++++++++++++++++++++++++++++++++++++++++++++++++++++++++++++++++++++++\n",
      "-++-++++-+++++++++++++++++++++++++++++++++++++++++++++++++++++++++++++++++++++++++++++++++++++++++++\n",
      "-++-++++-+++++++++++++++++++++++++++++++++++++++++++++++++++++++++++++++++++++++++++++++++++++++++++\n",
      "-++-++++-+++++++++++++++++++++++++++++++++++++++++++++++++++++++++++++++++++++++++++++++++++++++++++\n",
      "-++-++++-++++++-++++++++++++++++++++++++++++++++++++++++++++++++++++++++++++++++++++++++++++++++++++\n",
      "-++-++++-++++++-++++++++++++++++++++++++++++++++++++++++++++++++++++++++++++++++++++++++++++++++++++\n",
      "-++-++++-++++++-++++++++++++++++++++++++++++++++++++++++++++++++++++++++++++++++++++++++++++++++++++\n",
      "-++-++++-++++++-++++++++++++++++++++++++++++++++++++++++++++++++++++++++++++++++++++++++++++++++++++\n",
      "-++-++++-++++++-++++++++++++++++++++++++++++++++++++++++++++++++++++++++++++++++++++++++++++++++++++\n",
      "-++-++++-++++++-++++++++++++++++++++++++++++++++++++++++++++++++++++++++++++++++++++++++++++++++++++\n",
      "-++-++++-++++++-++++++++++++++++++++++++++++++++++++++++++++++++++++++++++++++++++++++++++++++++++++\n",
      "-++-++++-++++++-++++++++++++++++++++++++++++++++++++++++++++++++++++++++++++++++++++++++++++++++++++\n",
      "-++-++++-++++++-++++++++++++++++++++++++++++++++++++++++++++++++++++++++++++++++++++++++++++++++++++\n",
      "-++-++++-++++++-++++++++-+++++++++++++++++++++++++++++++++++++++++++++++++++++++++++++++++++++++++++\n",
      "-++-++++-++++++-++++++++-+++++++++++++++++++++++++++++++++++++++++++++++++++++++++++++++++++++++++++\n",
      "-++-++++-++++++-++++++++-+++++++++++++++++++++++++++++++++++++++++++++++++++++++++++++++++++++++++++\n",
      "-++-++++-++++++-++++++++-+++++++++++++++++++++++++++++++++++++++++++++++++++++++++++++++++++++++++++\n",
      "-++-++++-++++++-++++++++-+++++++++++++++++++++++++++++++++++++++++++++++++++++++++++++++++++++++++++\n",
      "-++-++++-++++++-++++++++-+++++++++++++++++++++++++++++++++++++++++++++++++++++++++++++++++++++++++++\n",
      "-++-++++-++++++-++++++++-+++++++++++++++++++++++++++++++++++++++++++++++++++++++++++++++++++++++++++\n",
      "-++-++++-++++++-++++++++-+++++++++++++++++++++++++++++++++++++++++++++++++++++++++++++++++++++++++++\n",
      "-++-++++-++++++-++++++++-+++++++++++++++++++++++++++++++++++++++++++++++++++++++++++++++++++++++++++\n",
      "-++-++++-++++++-++++++++-+++++++++++++++++++++++++++++++++++++++++++++++++++++++++++++++++++++++++++\n",
      "-++-++++-++++++-++++++++-+++++++++++++++++++++++++++++++++++++++++++++++++++++++++++++++++++++++++++\n",
      "-++-++++-++++++-++++++++-++++++++++-++++++++++++++++++++++++++++++++++++++++++++++++++++++++++++++++\n",
      "-++-++++-++++++-++++++++-++++++++++-++++++++++++++++++++++++++++++++++++++++++++++++++++++++++++++++\n",
      "-++-++++-++++++-++++++++-++++++++++-++++++++++++++++++++++++++++++++++++++++++++++++++++++++++++++++\n",
      "-++-++++-++++++-++++++++-++++++++++-++++++++++++++++++++++++++++++++++++++++++++++++++++++++++++++++\n",
      "-++-++++-++++++-++++++++-++++++++++-++++++++++++++++++++++++++++++++++++++++++++++++++++++++++++++++\n",
      "-++-++++-++++++-++++++++-++++++++++-++++++++++++++++++++++++++++++++++++++++++++++++++++++++++++++++\n",
      "-++-++++-++++++-++++++++-++++++++++-++++++++++++++++++++++++++++++++++++++++++++++++++++++++++++++++\n",
      "-++-++++-++++++-++++++++-++++++++++-++++++++++++++++++++++++++++++++++++++++++++++++++++++++++++++++\n",
      "-++-++++-++++++-++++++++-++++++++++-++++++++++++++++++++++++++++++++++++++++++++++++++++++++++++++++\n",
      "-++-++++-++++++-++++++++-++++++++++-++++++++++++++++++++++++++++++++++++++++++++++++++++++++++++++++\n",
      "-++-++++-++++++-++++++++-++++++++++-++++++++++++++++++++++++++++++++++++++++++++++++++++++++++++++++\n",
      "-++-++++-++++++-++++++++-++++++++++-++++++++++++++++++++++++++++++++++++++++++++++++++++++++++++++++\n",
      "-++-++++-++++++-++++++++-++++++++++-++++++++++++++++++++++++++++++++++++++++++++++++++++++++++++++++\n",
      "-++-++++-++++++-++++++++-++++++++++-++++++++++++-+++++++++++++++++++++++++++++++++++++++++++++++++++\n",
      "-++-++++-++++++-++++++++-++++++++++-++++++++++++-+++++++++++++++++++++++++++++++++++++++++++++++++++\n",
      "-++-++++-++++++-++++++++-++++++++++-++++++++++++-+++++++++++++++++++++++++++++++++++++++++++++++++++\n",
      "-++-++++-++++++-++++++++-++++++++++-++++++++++++-+++++++++++++++++++++++++++++++++++++++++++++++++++\n",
      "-++-++++-++++++-++++++++-++++++++++-++++++++++++-+++++++++++++++++++++++++++++++++++++++++++++++++++\n",
      "-++-++++-++++++-++++++++-++++++++++-++++++++++++-+++++++++++++++++++++++++++++++++++++++++++++++++++\n",
      "-++-++++-++++++-++++++++-++++++++++-++++++++++++-+++++++++++++++++++++++++++++++++++++++++++++++++++\n",
      "-++-++++-++++++-++++++++-++++++++++-++++++++++++-+++++++++++++++++++++++++++++++++++++++++++++++++++\n",
      "-++-++++-++++++-++++++++-++++++++++-++++++++++++-+++++++++++++++++++++++++++++++++++++++++++++++++++\n",
      "-++-++++-++++++-++++++++-++++++++++-++++++++++++-+++++++++++++++++++++++++++++++++++++++++++++++++++\n",
      "-++-++++-++++++-++++++++-++++++++++-++++++++++++-+++++++++++++++++++++++++++++++++++++++++++++++++++\n",
      "-++-++++-++++++-++++++++-++++++++++-++++++++++++-+++++++++++++++++++++++++++++++++++++++++++++++++++\n",
      "-++-++++-++++++-++++++++-++++++++++-++++++++++++-+++++++++++++++++++++++++++++++++++++++++++++++++++\n",
      "-++-++++-++++++-++++++++-++++++++++-++++++++++++-+++++++++++++++++++++++++++++++++++++++++++++++++++\n",
      "-++-++++-++++++-++++++++-++++++++++-++++++++++++-+++++++++++++++++++++++++++++++++++++++++++++++++++\n",
      "-++-++++-++++++-++++++++-++++++++++-++++++++++++-++++++++++++++-++++++++++++++++++++++++++++++++++++\n",
      "-++-++++-++++++-++++++++-++++++++++-++++++++++++-++++++++++++++-++++++++++++++++++++++++++++++++++++\n",
      "-++-++++-++++++-++++++++-++++++++++-++++++++++++-++++++++++++++-++++++++++++++++++++++++++++++++++++\n",
      "-++-++++-++++++-++++++++-++++++++++-++++++++++++-++++++++++++++-++++++++++++++++++++++++++++++++++++\n",
      "-++-++++-++++++-++++++++-++++++++++-++++++++++++-++++++++++++++-++++++++++++++++++++++++++++++++++++\n",
      "-++-++++-++++++-++++++++-++++++++++-++++++++++++-++++++++++++++-++++++++++++++++++++++++++++++++++++\n",
      "-++-++++-++++++-++++++++-++++++++++-++++++++++++-++++++++++++++-++++++++++++++++++++++++++++++++++++\n",
      "-++-++++-++++++-++++++++-++++++++++-++++++++++++-++++++++++++++-++++++++++++++++++++++++++++++++++++\n",
      "-++-++++-++++++-++++++++-++++++++++-++++++++++++-++++++++++++++-++++++++++++++++++++++++++++++++++++\n",
      "-++-++++-++++++-++++++++-++++++++++-++++++++++++-++++++++++++++-++++++++++++++++++++++++++++++++++++\n",
      "-++-++++-++++++-++++++++-++++++++++-++++++++++++-++++++++++++++-++++++++++++++++++++++++++++++++++++\n",
      "-++-++++-++++++-++++++++-++++++++++-++++++++++++-++++++++++++++-++++++++++++++++++++++++++++++++++++\n",
      "-++-++++-++++++-++++++++-++++++++++-++++++++++++-++++++++++++++-++++++++++++++++++++++++++++++++++++\n",
      "-++-++++-++++++-++++++++-++++++++++-++++++++++++-++++++++++++++-++++++++++++++++++++++++++++++++++++\n",
      "-++-++++-++++++-++++++++-++++++++++-++++++++++++-++++++++++++++-++++++++++++++++++++++++++++++++++++\n",
      "-++-++++-++++++-++++++++-++++++++++-++++++++++++-++++++++++++++-++++++++++++++++++++++++++++++++++++\n",
      "-++-++++-++++++-++++++++-++++++++++-++++++++++++-++++++++++++++-++++++++++++++++++++++++++++++++++++\n",
      "-++-++++-++++++-++++++++-++++++++++-++++++++++++-++++++++++++++-++++++++++++++++-+++++++++++++++++++\n",
      "-++-++++-++++++-++++++++-++++++++++-++++++++++++-++++++++++++++-++++++++++++++++-+++++++++++++++++++\n",
      "-++-++++-++++++-++++++++-++++++++++-++++++++++++-++++++++++++++-++++++++++++++++-+++++++++++++++++++\n",
      "-++-++++-++++++-++++++++-++++++++++-++++++++++++-++++++++++++++-++++++++++++++++-+++++++++++++++++++\n",
      "-++-++++-++++++-++++++++-++++++++++-++++++++++++-++++++++++++++-++++++++++++++++-+++++++++++++++++++\n",
      "-++-++++-++++++-++++++++-++++++++++-++++++++++++-++++++++++++++-++++++++++++++++-+++++++++++++++++++\n",
      "-++-++++-++++++-++++++++-++++++++++-++++++++++++-++++++++++++++-++++++++++++++++-+++++++++++++++++++\n",
      "-++-++++-++++++-++++++++-++++++++++-++++++++++++-++++++++++++++-++++++++++++++++-+++++++++++++++++++\n",
      "-++-++++-++++++-++++++++-++++++++++-++++++++++++-++++++++++++++-++++++++++++++++-+++++++++++++++++++\n",
      "-++-++++-++++++-++++++++-++++++++++-++++++++++++-++++++++++++++-++++++++++++++++-+++++++++++++++++++\n",
      "-++-++++-++++++-++++++++-++++++++++-++++++++++++-++++++++++++++-++++++++++++++++-+++++++++++++++++++\n",
      "-++-++++-++++++-++++++++-++++++++++-++++++++++++-++++++++++++++-++++++++++++++++-+++++++++++++++++++\n",
      "-++-++++-++++++-++++++++-++++++++++-++++++++++++-++++++++++++++-++++++++++++++++-+++++++++++++++++++\n",
      "-++-++++-++++++-++++++++-++++++++++-++++++++++++-++++++++++++++-++++++++++++++++-+++++++++++++++++++\n",
      "-++-++++-++++++-++++++++-++++++++++-++++++++++++-++++++++++++++-++++++++++++++++-+++++++++++++++++++\n",
      "-++-++++-++++++-++++++++-++++++++++-++++++++++++-++++++++++++++-++++++++++++++++-+++++++++++++++++++\n",
      "-++-++++-++++++-++++++++-++++++++++-++++++++++++-++++++++++++++-++++++++++++++++-+++++++++++++++++++\n",
      "-++-++++-++++++-++++++++-++++++++++-++++++++++++-++++++++++++++-++++++++++++++++-+++++++++++++++++++\n",
      "-++-++++-++++++-++++++++-++++++++++-++++++++++++-++++++++++++++-++++++++++++++++-+++++++++++++++++++\n",
      "-++-++++-++++++-++++++++-++++++++++-++++++++++++-++++++++++++++-++++++++++++++++-++++++++++++++++++-\n"
     ]
    }
   ],
   "source": [
    "coins = flip_coins(100, all_flips=True)"
   ]
  },
  {
   "cell_type": "markdown",
   "metadata": {},
   "source": [
    "<strong> Some math: </strong>\n",
    "\n",
    "As N becomes greater so does the frequency between coin flips. Interestingly, the amount of coins flipped decreases by 1/3 with each flip. So we get the exponential nature of the puzzle seen above."
   ]
  },
  {
   "cell_type": "code",
   "execution_count": 27,
   "metadata": {
    "collapsed": false
   },
   "outputs": [
    {
     "data": {
      "text/plain": [
       "400"
      ]
     },
     "execution_count": 27,
     "metadata": {},
     "output_type": "execute_result"
    }
   ],
   "source": [
    "sqaured = (lambda n: n ** 2)\n",
    "sqaured(20)"
   ]
  },
  {
   "cell_type": "code",
   "execution_count": 28,
   "metadata": {
    "collapsed": false
   },
   "outputs": [
    {
     "name": "stdout",
     "output_type": "stream",
     "text": [
      "[0, 2, 4, 8, 12, 18, 24, 32, 40, 50, 60, 72, 84, 98, 112, 128, 144, 162, 180, 200, 220, 242, 264, 288, 312, 338, 364, 392, 420, 450, 480, 512, 544, 578, 612, 648, 684, 722, 760, 800, 840, 882, 924, 968, 1012, 1058, 1104, 1152, 1200, 1250, 1300, 1352, 1404, 1458, 1512, 1568, 1624, 1682, 1740, 1800, 1860, 1922, 1984, 2048, 2112, 2178, 2244, 2312, 2380, 2450, 2520, 2592, 2664, 2738, 2812, 2888, 2964, 3042, 3120, 3200, 3280, 3362, 3444, 3528, 3612, 3698, 3784, 3872, 3960, 4050, 4140, 4232, 4324, 4418, 4512, 4608, 4704, 4802, 4900]\n"
     ]
    }
   ],
   "source": [
    "print([(sqaured(i) // 2) for i in range(1, 100)])"
   ]
  },
  {
   "cell_type": "markdown",
   "metadata": {},
   "source": [
    "<strong>Source code:</strong>"
   ]
  },
  {
   "cell_type": "markdown",
   "metadata": {},
   "source": [
    "<pre><!-- HTML generated using hilite.me --><div style=\"background: #f0f3f3; overflow:auto;width:auto;border:solid gray;border-width:.1em .1em .1em .8em;padding:.2em .6em;\"><pre style=\"margin: 0; line-height: 125%\"><span style=\"color: #CC3300; font-style: italic\">&quot;&quot;&quot; coins.py | Tue, Feb 07, 2017 | Roman S. Collins</span>\n",
    "<span style=\"color: #CC3300; font-style: italic\">    The problem:</span>\n",
    "<span style=\"color: #CC3300; font-style: italic\">    You place 100 coins heads up in a row and number them by position, with the coin all the way on the left No. 1 and the one on the rightmost edge</span>\n",
    "<span style=\"color: #CC3300; font-style: italic\">    No. 100. Next, for every number N, from 1 to 100, you flip over every coin whose position is a multiple of N. For example, first you&#39;ll flip over</span>\n",
    "<span style=\"color: #CC3300; font-style: italic\">    every coin whose position is a multiple of N. For example. First you&#39;ll flip over all the coins, because every number is a multiple of 1. Then you&#39;ll</span>\n",
    "<span style=\"color: #CC3300; font-style: italic\">    flip over all the even-numbered coins, because theyre multiples of 2. Then you&#39;ll flip coins No. 3, 6, 9, 12 and so on.</span>\n",
    "<span style=\"color: #CC3300; font-style: italic\">&quot;&quot;&quot;</span>\n",
    "<span style=\"color: #006699; font-weight: bold\">def</span> <span style=\"color: #CC00FF\">flip_coins</span>(n, all_flips<span style=\"color: #555555\">=</span><span style=\"color: #336666\">False</span>):\n",
    "    coins <span style=\"color: #555555\">=</span> [x <span style=\"color: #006699; font-weight: bold\">for</span> x <span style=\"color: #000000; font-weight: bold\">in</span> <span style=\"color: #336666\">range</span>(n <span style=\"color: #555555\">+</span> <span style=\"color: #FF6600\">1</span>)]\n",
    "    coins[<span style=\"color: #FF6600\">0</span>] <span style=\"color: #555555\">=</span> <span style=\"color: #336666\">None</span>\n",
    "    coins<span style=\"color: #555555\">.</span>append(<span style=\"color: #336666\">None</span>)\n",
    "\n",
    "    flip_coins <span style=\"color: #555555\">=</span> [<span style=\"color: #CC3300\">&#39;+&#39;</span> <span style=\"color: #006699; font-weight: bold\">for</span> i <span style=\"color: #000000; font-weight: bold\">in</span> <span style=\"color: #336666\">range</span>(n <span style=\"color: #555555\">+</span> <span style=\"color: #FF6600\">1</span>)]\n",
    "    flip_coins[<span style=\"color: #FF6600\">0</span>] <span style=\"color: #555555\">=</span> <span style=\"color: #CC3300\">&#39;&#39;</span>\n",
    "\n",
    "    <span style=\"color: #006699; font-weight: bold\">for</span> n <span style=\"color: #000000; font-weight: bold\">in</span> <span style=\"color: #336666\">range</span>(<span style=\"color: #FF6600\">1</span>, <span style=\"color: #336666\">len</span>(coins) <span style=\"color: #555555\">-</span> <span style=\"color: #FF6600\">1</span>):\n",
    "        <span style=\"color: #006699; font-weight: bold\">for</span> z <span style=\"color: #000000; font-weight: bold\">in</span> <span style=\"color: #336666\">range</span>(<span style=\"color: #FF6600\">1</span>, n <span style=\"color: #555555\">+</span> <span style=\"color: #FF6600\">1</span>):\n",
    "            <span style=\"color: #006699; font-weight: bold\">if</span> (coins[n] <span style=\"color: #555555\">%</span> z <span style=\"color: #555555\">==</span> <span style=\"color: #FF6600\">0</span>):\n",
    "                flip_coins[n] <span style=\"color: #555555\">=</span> flip(flip_coins[n])\n",
    "        <span style=\"color: #006699; font-weight: bold\">if</span> all_flips <span style=\"color: #555555\">==</span> <span style=\"color: #336666\">True</span>:\n",
    "            <span style=\"color: #006699; font-weight: bold\">print</span>(<span style=\"color: #CC3300\">&#39;&#39;</span><span style=\"color: #555555\">.</span>join(flip_coins))\n",
    "    <span style=\"color: #006699; font-weight: bold\">if</span> all_flips <span style=\"color: #555555\">==</span> <span style=\"color: #336666\">False</span>:\n",
    "        <span style=\"color: #006699; font-weight: bold\">print</span>(<span style=\"color: #CC3300\">&#39;&#39;</span><span style=\"color: #555555\">.</span>join(flip_coins))\n",
    "\n",
    "<span style=\"color: #006699; font-weight: bold\">def</span> <span style=\"color: #CC00FF\">flip</span>(coin):\n",
    "    <span style=\"color: #006699; font-weight: bold\">if</span> coin <span style=\"color: #555555\">==</span> <span style=\"color: #CC3300\">&#39;+&#39;</span>:\n",
    "        coin <span style=\"color: #555555\">=</span> <span style=\"color: #CC3300\">&#39;-&#39;</span>\n",
    "    <span style=\"color: #006699; font-weight: bold\">elif</span> coin <span style=\"color: #555555\">==</span> <span style=\"color: #CC3300\">&#39;-&#39;</span>:\n",
    "        coin <span style=\"color: #555555\">=</span> <span style=\"color: #CC3300\">&#39;+&#39;</span>\n",
    "\n",
    "    <span style=\"color: #006699; font-weight: bold\">return</span> coin\n",
    "\n",
    "<span style=\"color: #006699; font-weight: bold\">def</span> <span style=\"color: #CC00FF\">also_interesting</span>():\n",
    "    <span style=\"color: #0099FF; font-style: italic\"># Mostly just saving for later</span>\n",
    "    <span style=\"color: #0099FF; font-style: italic\"># to test and see if solving the problem</span>\n",
    "    <span style=\"color: #0099FF; font-style: italic\"># may be faster with something kinda</span>\n",
    "    <span style=\"color: #0099FF; font-style: italic\"># like this</span>\n",
    "    <span style=\"color: #006699; font-weight: bold\">for</span> y <span style=\"color: #000000; font-weight: bold\">in</span> <span style=\"color: #336666\">range</span>(<span style=\"color: #FF6600\">1</span>, <span style=\"color: #FF6600\">101</span>):\n",
    "        <span style=\"color: #0099FF; font-style: italic\">#print(termcolor.colored(&#39;.&#39;, &#39;red&#39;))</span>\n",
    "        <span style=\"color: #006699; font-weight: bold\">print</span>(<span style=\"color: #CC3300\">&#39;Flip#{}: &#39;</span><span style=\"color: #555555\">.</span>format(y), end<span style=\"color: #555555\">=</span><span style=\"color: #CC3300\">&#39;&#39;</span>)\n",
    "\n",
    "        <span style=\"color: #0099FF; font-style: italic\">#if (y != 1) or (y != 0):</span>\n",
    "        flip <span style=\"color: #555555\">=</span> [x <span style=\"color: #006699; font-weight: bold\">for</span> x <span style=\"color: #000000; font-weight: bold\">in</span> <span style=\"color: #336666\">range</span>(<span style=\"color: #FF6600\">0</span>, <span style=\"color: #FF6600\">101</span>, y)]\n",
    "        <span style=\"color: #006699; font-weight: bold\">print</span>(<span style=\"color: #336666\">len</span>(flip))\n",
    "        <span style=\"color: #006699; font-weight: bold\">print</span>(flip)\n",
    "\n",
    "<span style=\"color: #006699; font-weight: bold\">def</span> <span style=\"color: #CC00FF\">main</span>():\n",
    "    coins <span style=\"color: #555555\">=</span> flip_coins(<span style=\"color: #FF6600\">100</span>)\n",
    "\n",
    "<span style=\"color: #006699; font-weight: bold\">if</span> __name__ <span style=\"color: #555555\">==</span> <span style=\"color: #CC3300\">&#39;__main__&#39;</span>:\n",
    "main()\n",
    "</pre></div></pre>"
   ]
  },
  {
   "cell_type": "code",
   "execution_count": null,
   "metadata": {
    "collapsed": true
   },
   "outputs": [],
   "source": []
  }
 ],
 "metadata": {
  "kernelspec": {
   "display_name": "Python 3",
   "language": "python",
   "name": "python3"
  },
  "language_info": {
   "codemirror_mode": {
    "name": "ipython",
    "version": 3
   },
   "file_extension": ".py",
   "mimetype": "text/x-python",
   "name": "python",
   "nbconvert_exporter": "python",
   "pygments_lexer": "ipython3",
   "version": "3.6.0"
  }
 },
 "nbformat": 4,
 "nbformat_minor": 2
}
